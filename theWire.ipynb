{
 "cells": [
  {
   "cell_type": "code",
   "execution_count": null,
   "metadata": {},
   "outputs": [],
   "source": [
    "from selenium import webdriver\n",
    "from selenium.webdriver.common.by import By\n",
    "from selenium.webdriver.support.wait import WebDriverWait\n",
    "from selenium.webdriver.support import expected_conditions as EC\n",
    "\n",
    "import csv"
   ]
  },
  {
   "cell_type": "code",
   "execution_count": null,
   "metadata": {},
   "outputs": [],
   "source": [
    "driver=webdriver.Chrome()"
   ]
  },
  {
   "cell_type": "code",
   "execution_count": null,
   "metadata": {},
   "outputs": [],
   "source": [
    "driver.get(url=\"https://m.thewire.in/topic?keyword=Indian+Economy\")    "
   ]
  },
  {
   "cell_type": "code",
   "execution_count": null,
   "metadata": {},
   "outputs": [],
   "source": [
    "from selenium.common.exceptions import StaleElementReferenceException, NoSuchElementException\n",
    "\n",
    "pageNo=1\n",
    "articlesList=[]\n",
    "linksList=[]\n",
    "publish_details=[]\n",
    "k=0\n",
    "iter=True\n",
    "keys=['title','link','publish_details']\n",
    "\n",
    "while(iter):\n",
    "    wait = WebDriverWait(driver, 10)\n",
    "    articles = driver.find_elements(By.CLASS_NAME, 'post_heading')\n",
    "    links=driver.find_elements(By.CLASS_NAME,'featured_anchor')\n",
    "    publishd=driver.find_elements(By.CLASS_NAME,'header-time')\n",
    "            \n",
    "    articlesList.extend([article.text for article in articles] )\n",
    "    linksList.extend([link.get_attribute('href') for link in links])\n",
    "    publish_details.extend([publish.text for publish in publishd])      \n",
    "    k=k+1\n",
    "    pageNo= pageNo+1\n",
    "\n",
    "    if (pageNo==3):\n",
    "        iter = False\n",
    "    else:\n",
    "        driver.get(url=f'https://m.thewire.in/topic/Indian+Economy?page={pageNo}')\n",
    "\n",
    "print(articlesList)\n",
    "print(linksList)\n",
    "print(publish_details)\n"
   ]
  },
  {
   "cell_type": "code",
   "execution_count": null,
   "metadata": {},
   "outputs": [],
   "source": [
    "import pandas\n",
    "article_list=list(zip(articlesList,linksList, publish_details))\n",
    "# print(article_list)\n",
    "df=pandas.DataFrame(article_list,columns=['title','link','publish_details'])\n"
   ]
  },
  {
   "cell_type": "code",
   "execution_count": null,
   "metadata": {},
   "outputs": [],
   "source": [
    "print(df)"
   ]
  },
  {
   "cell_type": "code",
   "execution_count": null,
   "metadata": {},
   "outputs": [],
   "source": [
    "for links in linksList:\n",
    "    driver.get(url=links)\n",
    "    try:\n",
    "        content=driver.find_element(By.XPATH,'/html/body/div[3]/div/div[1]/div[3]/div/div/section/div[3]/div[2]/div[2]').text\n",
    "    except Exception as h:\n",
    "        content=''\n",
    "    finally:\n",
    "        print(content,\"**\")"
   ]
  },
  {
   "cell_type": "code",
   "execution_count": null,
   "metadata": {},
   "outputs": [],
   "source": [
    "# print(articles_dict)\n",
    "print(len(articlesList))"
   ]
  },
  {
   "cell_type": "code",
   "execution_count": null,
   "metadata": {},
   "outputs": [],
   "source": [
    "# Flatten the nested structure\n",
    "flat_articles_list = []\n",
    "for article_id, article_data in articles_dict.items():\n",
    "    flat_article = {'id': article_data['id'], 'publisher': article_data['publisher'], 'title': article_data['title'], 'link': article_data['link'], 'publish_details': article_data['publish_details'], 'content': article_data['content']}\n",
    "    flat_articles_list.append(flat_article)\n",
    "\n",
    "# Specify the CSV file path\n",
    "csv_file_path = 'theWire.csv'\n",
    "\n",
    "# Write the flattened data to a CSV file\n",
    "with open(csv_file_path, 'w', newline='', encoding='utf-8') as csv_file:\n",
    "    fieldnames = ['id', 'publisher', 'title', 'link', 'publish_details', 'content']\n",
    "    writer = csv.DictWriter(csv_file, fieldnames=fieldnames)\n",
    "    \n",
    "    # Write the header\n",
    "    writer.writeheader()\n",
    "    \n",
    "    # Write the data\n",
    "    writer.writerows(flat_articles_list)\n",
    "\n",
    "print(f\"The data has been written to '{csv_file_path}'.\")"
   ]
  }
 ],
 "metadata": {
  "kernelspec": {
   "display_name": "Python 3",
   "language": "python",
   "name": "python3"
  },
  "language_info": {
   "codemirror_mode": {
    "name": "ipython",
    "version": 3
   },
   "file_extension": ".py",
   "mimetype": "text/x-python",
   "name": "python",
   "nbconvert_exporter": "python",
   "pygments_lexer": "ipython3",
   "version": "3.10.11"
  }
 },
 "nbformat": 4,
 "nbformat_minor": 2
}

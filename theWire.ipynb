{
 "cells": [
  {
   "cell_type": "code",
   "execution_count": 1,
   "metadata": {},
   "outputs": [],
   "source": [
    "from selenium import webdriver\n",
    "from selenium.webdriver.common.by import By\n",
    "from selenium.webdriver.support.wait import WebDriverWait\n",
    "from selenium.webdriver.support import expected_conditions as EC\n",
    "\n",
    "import csv"
   ]
  },
  {
   "cell_type": "code",
   "execution_count": 2,
   "metadata": {},
   "outputs": [],
   "source": [
    "driver=webdriver.Chrome()"
   ]
  },
  {
   "cell_type": "code",
   "execution_count": 3,
   "metadata": {},
   "outputs": [],
   "source": [
    "driver.get(url=\"https://m.thewire.in/topic?keyword=Indian+Economy\")    "
   ]
  },
  {
   "cell_type": "code",
   "execution_count": 4,
   "metadata": {},
   "outputs": [
    {
     "name": "stdout",
     "output_type": "stream",
     "text": [
      "['EPFO Data Shows Dip In Fresh Formal Job Creation Again, Falls To Six-Month Low', \"India's Economy: Is It Really That Bad?\", 'Foreign Ministers of India, Australia Discuss India-Canada Dispute', 'The Hurdles in the Way of Reforming Agricultural Markets in India', \"Indian Journalist K.K. Shahina Among Winners of CPJ's International Press Freedom Awards\", \"As South Africa Points to Gaza 'Genocide', Differences Between India, Other BRICS Members Clear\", 'The Indian Cricket Team Was Burdened By the Weight of a Nation Which Always Wants to Be a Winner', 'Indian Journalist Ahmer Khan Wins 2023 Martin Adler Prize', 'Watch | \"Plastic Rice\": Delhi’s Experiment With Fortified Rice Hard to Swallow for India\\'s Adivasi Residents', 'Hush in Narendra Modi Stadium Pleased Cummins but it Diminished India in the Eyes of the World', 'Israel Alleges Houthi Rebel Hand Behind Hijacking of India-Bound Cargo Ship in Red Sea', 'Mahua Moitra’s Plight Is Testament to the Kismet of Women Politicians in India', 'Health Ministry Refutes UN Agency Report on 1.1 Million Measles Vaccinations Missed in India', \"Man in 'Free Palestine' Shirt Invades Pitch During India-Australia Cricket World Cup Final\", 'A Day After Taking Over, New Maldives President Officially Asks India to Withdraw Its Troops', 'What Parliament Panel Said on Bharatiya Sakshya Bill, Which Seeks To Replace Indian Evidence Act', \"No Handcuffs for Economic Offences, Digital Evidence 'Safeguards': Parliamentary Panel Report on BNSS Bill\", 'At India’s Summit for Global South, Leaders Raise Strong Concerns Over Ongoing Conflict in West Asia', 'India Urges Canada to Abide By Vienna Convention on Diplomatic Relations', 'Mind the Gap: A Slender Upper and a Heavy Lower Arm Define India’s K-Shaped Trajectory']\n",
      "['https://m.thewire.in/article/economy/epfo-data-dip-fresh-formal-job-creation-six-month-low', 'https://m.thewire.in/article/political-economy/book-review-is-indias-economy-really-that-bad', 'https://m.thewire.in/article/diplomacy/foreign-ministers-of-india-australia-discuss-india-canada-dispute', 'https://m.thewire.in/article/agriculture/the-hurdles-in-the-way-of-reforming-agricultural-markets-in-india', 'https://m.thewire.in/article/media/indian-journalist-k-k-shahina-among-winners-of-cpjs-international-press-freedom-awards', 'https://m.thewire.in/article/diplomacy/brics-meeting-israel-hamas-gaza', 'https://m.thewire.in/article/sport/india-cricket-team-winner', 'https://m.thewire.in/article/media/indian-journalist-ahmer-khan-wins-2023-martin-adler-prize', 'https://m.thewire.in/article/rights/watch-plastic-rice-delhis-experiment-with-fortified-rice-hard-to-swallow-for-indias-adivasi-residents', 'https://m.thewire.in/article/sport/india-cricket-world-cup-2023-final-pradeep-magazine', 'https://m.thewire.in/article/world/israel-alleges-houthi-rebel-hand-behind-hijacking-of-india-bound-cargo-ship-in-red-sea', 'https://m.thewire.in/article/women/mahua-moitras-plight-is-testament-to-the-kismet-of-women-politicians-in-india', 'https://m.thewire.in/article/health/health-ministry-refutes-un-agency-report-on-1-1-million-measles-vaccinations-missed-in-india', 'https://m.thewire.in/article/rights/free-palestine-cricket-world-cup-pitch-invader', 'https://m.thewire.in/article/diplomacy/maldives-president-asks-india-to-withdraw-its-troops', 'https://m.thewire.in/article/government/what-parl-panel-said-on-bharatiya-sakshya-bill-which-seeks-to-replace-the-indian-evidence-act', 'https://m.thewire.in/article/government/no-handcuffs-for-economic-offences-safeguards-electronic-evidence-misuse-parl-panel-report-on-bns', 'https://m.thewire.in/article/diplomacy/at-indias-summit-for-global-south-leaders-raise-strong-concern-over-ongoing-conflict-in-west-asia', 'https://m.thewire.in/article/diplomacy/india-urges-canada-to-abide-by-vienna-convention-on-diplomatic-relations', 'https://m.thewire.in/article/economy/economy-k-shaped-household-income']\n",
      "['20 hours ago   |  The Wire Staff', 'Nov 18, 2023  |  Vijay Poduri', '14 hours ago   |  The Wire Staff', '17 hours ago   |  Siraj Hussain', 'Nov 20, 2023  |  The Wire Staff', '13 hours ago   |  The Wire Staff', 'Nov 20, 2023  |  Sidharth Bhatia', 'Nov 19, 2023  |  The Wire Staff', '15 hours ago   |  Anumeha Yadav', 'Nov 20, 2023  |  Pradeep Magazine', 'Nov 20, 2023  |  The Wire Staff', 'Nov 19, 2023  |  Prerna Dhoop and Vandana Dhoop', 'Nov 19, 2023  |  The Wire Staff', 'Nov 19, 2023  |  The Wire Staff', 'Nov 18, 2023  |  The Wire Staff', 'Nov 18, 2023  |  Sravasti Dasgupta', 'Nov 17, 2023  |  Sravasti Dasgupta', 'Nov 18, 2023  |  The Wire Staff', 'Nov 17, 2023  |  The Wire Staff', 'Nov 17, 2023  |  Dhananjay Sinha']\n"
     ]
    }
   ],
   "source": [
    "from selenium.common.exceptions import StaleElementReferenceException, NoSuchElementException\n",
    "\n",
    "pageNo=1\n",
    "articlesList=[]\n",
    "linksList=[]\n",
    "publish_details=[]\n",
    "k=0\n",
    "iter=True\n",
    "keys=['title','link','publish_details']\n",
    "\n",
    "while(iter):\n",
    "    wait = WebDriverWait(driver, 10)\n",
    "    articles = driver.find_elements(By.CLASS_NAME, 'post_heading')\n",
    "    links=driver.find_elements(By.CLASS_NAME,'featured_anchor')\n",
    "    publishd=driver.find_elements(By.CLASS_NAME,'header-time')\n",
    "            \n",
    "    articlesList.extend([article.text for article in articles] )\n",
    "    linksList.extend([link.get_attribute('href') for link in links])\n",
    "    publish_details.extend([publish.text for publish in publishd])      \n",
    "    k=k+1\n",
    "    pageNo= pageNo+1\n",
    "\n",
    "    if (pageNo==3):\n",
    "        iter = False\n",
    "    else:\n",
    "        driver.get(url=f'https://m.thewire.in/topic/Indian+Economy?page={pageNo}')\n",
    "\n",
    "print(articlesList)\n",
    "print(linksList)\n",
    "print(publish_details)\n"
   ]
  },
  {
   "cell_type": "code",
   "execution_count": 9,
   "metadata": {},
   "outputs": [
    {
     "name": "stdout",
     "output_type": "stream",
     "text": [
      "New Delhi: Formal job creation declined for a second consecutive month in September, reaching a six-month low and indicating a downturn in the labour markets for the current financial year, according to Business Standard.\n",
      "The latest payroll data released by the Employees’ Provident Fund Organisation (EPFO) on Monday, November 20, revealed a 6.45% decrease in the number of new monthly subscribers under the Employees’ Provident Fund (EPF). The number of new subscribers dropped from 953,092 in August to 891,583 in September.\n",
      "While the net payroll additions – calculated using new subscribers, exits, and the return of old subscribers – rose by 14.9% to 1.72 million in September, these numbers are provisional and are usually subject to significant revisions in the following month.\n",
      "According to Business Standard, the proportion of women among the fresh EPF subscribers in September declined from 26.12% in August to 25.3% (226,392). On the other hand, the share of individuals in the 18-28 age group increased slightly from 67.93% in August to 68.8% in September. The newspaper reported that this age group is a crucial metric as these individuals are “usually first-timers in the labour market, thus reflecting its robustness”.\n",
      "The labour ministry said in a statement that around 41.46% of the net membership addition in September came from expert services, including manpower suppliers, normal contractors, security services, and miscellaneous activities.\n",
      "“A month-on-month comparison of industry-wise data displays significant growth in the members working in establishments engaged in the sugar industry, courier services, iron and steel, hospitals, travel agencies, etc,” it said.\n",
      "The Centre for Monitoring Indian Economy (CMIE), however, reported positive trends in the labour markets for September. The unemployment rate dropped to a one-year low, decreasing from 8.10% in August to 7.09% in September. Notably, rural unemployment fell to 6.20% from 7.11% in August, while urban unemployment decreased from 10.09% to 8.94% during the same period. **\n",
      "For the first 44 years after independence, India’s development and prospects aroused little enthusiasm, whether among Indians or western commentators. Things started changing after the reforms of the Narasimha Rao led government in 1991. That much-celebrated economic liberalisation aligned well with the zeitgeist in the Western world: a shrinking role for government and a celebration of the private sector, accompanied by relentless homilies about globalisation.\n",
      "Narratives of profound economic change erupted, and haven’t stopped since.\n",
      "For more than three decades now, we have heard and read about the emerging phenomenon that is India. It has been hailed as a potential superpower, a sleeping giant, a great untapped market and a country finally reclaiming its supposedly deserved spot on the global stage.\n",
      "This image clashes with reports of continuing poverty and deprivation, dangerously high pollution, urban decay, crumbling infrastructure, an overwhelmed judicial system and horrific atrocities in the name of religion and caste.\n",
      "This presents a case of cognitive dissonance that is difficult to reconcile, not just for outsiders, but for Indians as well. Is India doing well, or poorly?\n",
      "There are two ways to examine India’s economic performance since independence. One is to compare it with its own past, under British misrule. The other is to compare it to what other countries managed to achieve within the same or similar periods.\n",
      "Even though national income statistics for India began to be compiled only after independence, estimates of growth in the first half of the 20th century, according to the Maddison Project Database, show that GDP grew only by 0.9% per year. Population growth of 0.8% per year meant that per capita GDP grew at the anaemic rate of 0.1%.\n",
      "Growth rates picked up right after independence, and notwithstanding all the flaws of successive governments, the stark contrasts provide a clear indictment of British imperialism in India.\n",
      "Also Read: Averting a $10-Trillion Dystopia\n",
      "That there has been significant economic growth after independence is not in doubt. First, during the 1950s and 1960s, India’s economy grew at over 3% annually. There was a clear deceleration in the 1970s, which was reversed by much higher growth rates over the next three decades.\n",
      "A commonly held, but demonstrably false view is that India’s high growth phase began only after the reforms of the early 1990s. The data show that the phase actually began a decade earlier, with the growth rate over the 1980s being almost identical to that in the 1990s.\n",
      "Despite the much-improved economic growth relative to the first half of the twentieth century, the growth rates in the first three decades after independence led to much disappointment, dashed expectations, and the coinage of the term “Hindu rate of growth”.\n",
      "The disappointment arose from an obvious comparison with the contemporary economic performance of other countries: India’s rate of growth from 1950 to 1980 was slower than the world average, as well as the average for developing countries.\n",
      "One line of reasoning is to claim that India is sui generis – there is no other country quite like ours, so comparisons are not meaningful. This, of course, is an evasive manoeuvre. There is much that India can learn from the experience of other countries.\n",
      "Still, comparisons with Western nations are a stretch, due to their history of imperialism and the fact that the industrial revolutions of the eighteenth and nineteenth centuries had their provenance in Europe.\n",
      "A much better peer group consists of Asian countries, several of which were victims of imperialism, and were starting with very similar initial conditions circa 1950. The numbers below show that several of these countries did better than India in terms of growth. Vietnam was the exception, but it was plagued by the French and American wars until 1975.\n",
      "Calculations based on data from the Maddison Project Database.\n",
      "While there are important questions that arise from comparing GDP growth across countries, the GDP level and its growth rate have turned into an unhealthy obsession in recent years.\n",
      "Everyone knows that India has the fastest GDP growth, is the third or the fifth largest economy, and that the level will reach X trillion some years from now, where X is five, or twenty, or thirty, or whatever number the speaker feels like throwing out there.\n",
      "The most popular level is, of course, five trillion, though some ruling party members have had trouble specifying the number of zeros in a trillion, or have confused a five trillion dollar economy with a five million ton economy, or have counselled us to not to get into the maths since it allegedly never helped Einstein.\n",
      "Beyond the laughable innumeracy lies a blinkered collective view of development which derives a bizarre kind of pride from the size of the economy. So, it is worth pointing out that elementary algebra tells you that there is nothing remarkable about India’s GDP level reaching five trillion dollars in a few years from now.\n",
      "According to the government’s 2023 budget documents, India’s GDP was estimated to be Rs 273.1 trillion, or $3.3 trillion at the current exchange rate of Rs 83 per dollar. To get to $5 trillion, the dollar value of the GDP needs to grow by 52%, or by 8.7% per year in nominal terms if we choose a horizon of 5 years.\n",
      "Assuming a rupee depreciation of about 4% per year means that India’s nominal GDP in rupees has to grow by about 12.7% per year. For expected real GDP growth in the near future, we can use the average since 1980, which is about 5.6% per year. A reasonable value for expected inflation is 5% per year, which gets us to about 10.6%.\n",
      "This is short of the 12.7% required, but a slight tweaking of expected real growth rates, or inflation, or rupee depreciation, will make the calculation work. If the tweaks seem unrealistic, we can always move the goalposts and say we will get there in six or seven years.\n",
      "Also Read: The Many Economic Guarantees and Promises of the Modi Government\n",
      "The point is that getting to a five-trillion-dollar economy in five to seven years requires no major policy innovations, grand vision or administrative brilliance. If the economy performs as it has for the last few decades on average, we will get there simply by the magic of compounding.\n",
      "Setting aside the calculation, the notion of a high GDP level as a dominant concern is troubling.\n",
      "As the Nobel-winning economist Joseph Stiglitz explains lucidly, the measure is very limited in its scope and applicability to understanding public welfare. As a measure of development, its drawbacks are well-known: it says nothing about the distribution of income, it ignores non-market transactions in goods and services, and it does not account for the steep cost of environmental destruction.\n",
      "Apart from these problems with the concept itself, there are significant measurement difficulties and statistical issues connected to how the numbers are produced. No wonder that economists cast doubt on the reported numbers for India as well as for China.\n",
      "The narrow focus on a single indicator such as the GDP was a late-20th century phenomenon, amplified by multilateral institutions like the World Bank and the IMF. Contrary to this, even elementary economics textbooks tell you that there are at least three main macroeconomic variables: output, employment and inflation.\n",
      "Development economists have suggested measures of welfare combining multiple indicators, while also advocating for a dashboard of economic measures, rather than a single number.\n",
      "Even if we think that the metrics suggested by development economists are difficult to measure, India would do well to shift its focus to the other two main macroeconomic variables according to textbooks: employment and inflation.\n",
      "It is clear that opposition parties intend to highlight these two issues in the 2024 elections. Remarkably, these were exactly the same issues that caused much political turmoil fifty years ago, in 1974, in the eventual leadup to the Emergency. That’s clear evidence for civilisational continuity in India’s political economy.\n",
      "Ashoka Mody\n",
      "India is Broken\n",
      "Stanford University Press (February 2023)\n",
      "Ashoka Mody’s book, India is Broken, is a great antidote to blinkered growth-focused thinking. The superbly crafted book highlights that any fair evaluation of the economy has to answer the question of how growth has benefitted India’s people at large. It is simultaneously a political history and a sustained critique of India’s economic trajectory.\n",
      "Its scathing judgements are telegraphed in its table of contents: we have “Part 1: Fake Socialism, 1947-1964”, “Chapter 10, India Has an Empress”, “Chapter 16, Rajiv Unleashes the Gale Force of Hindu Nationalism”, and “Chapter 21, Modi Pushes the Economy off the Edge”, among others.\n",
      "This searing indictment of India’s political economy over the last 75 years is a refreshing change from the relentless boosterism of the last couple of decades or the anodyne assessments of many commentators.\n",
      "The popular narrative of India’s post-independence economic history has congealed around a combination of stylised facts and mindless repetition of uninformed myths: Nehru was a socialist and was responsible for the low rates of growth; the licence-permit raj under Indira and Rajiv Gandhi strangulated the economy until the reforms of Narasimha Rao and Manmohan Singh liberated it; there is something called the Gujarat model; “nothing was done” in 70 years, etc.\n",
      "Mody does an excellent job of demolishing these nuggets of received wisdom.\n",
      "He is particularly clear-eyed about Nehru, offering a bracing contrast to the hagiography of many writers. As he points out, Nehru’s socialism was mostly rhetorical, bearing little resemblance either to Soviet socialism or to European social democratic practice.\n",
      "Indeed, even the label Fabian socialism is misapplied to Nehru, since the exemplar of that variety, Clement Attlee, pioneered free health care, secondary education and social insurance in the UK – all conspicuously absent in Nehru’s India.\n",
      "The primary economic thrust of the Nehru years was heavy industry, aligned with the idea of big push industrialisation, which was popular at the time. Mody thinks this was a serious mistake and that the focus should have been on labour-intensive light industry, which would have generated far more employment and let India take advantage of the post-World War trade boom.\n",
      "The unifying theme in the book’s critique of India’s economic policies is the lack of focus on job creation. This is a powerful and intuitive organising principle. It runs as a consistent thread through independent India’s economic history.\n",
      "Also Read: Three Claims of Government Economists About Jobs Put to the Test\n",
      "Generally, output growth and employment are positively correlated, but the magnitude of this correlation is unusually low for India. Low unemployment and good jobs clearly benefit individuals, but also have enormous social impact – it is a commonplace observation in many societies that unemployed youth provide fertile recruiting grounds for all manner of political violence, and India is no exception.\n",
      "Making job creation a priority – through budgetary allocations and policies favouring labour-intensive manufacturing with an export orientation – does not mean giving up on GDP growth, as shown by Japan, Korea, Taiwan and China.\n",
      "Mody references the work of A.K. Ghose to estimate that India’s jobs shortfall was already at a staggering 20-25 million in 1955. The situation only worsened in subsequent decades, with the backlog reaching 30-35 million in 1965, 40-45 million by the mid-1980s, 58 million in 2000 and at least 80 million by 2019.\n",
      "The much-touted demographic dividend, to be realised from a bulging youth population, has the flip side that it will require an additional seven to nine million jobs per year. These numbers demonstrate the futility of focussing on GDP growth alone – India’s best GDP growth phase, from 2003 to 2011, did little to make a dent in the mountain of the jobs backlog.\n",
      "Mody notes that the high growth period in India was driven by a finance and construction boom, which did not create enough new jobs. More generally, this phenomenon of ‘jobless growth’ has been noted widely, and is a result of much of the growth happening in the services sector.\n",
      "Due to missteps going back to the 1950s, India seems to have skipped the intermediate stage of a transition from a primarily agricultural economy to an industrial one, directly going to a service sector-dominated economy.\n",
      "In terms of development, the lack of jobs is compounded by the failure in developing human capital. This failure began in the Nehru era, and has continued ever since, as described in detail by Amartya Sen and Jean Dreze in their 2013 book India: An Uncertain Glory.\n",
      "Education and health expenditures have lagged behind world averages for a very long time. It is not as if this wasn’t realised early on. Back in 1966, the Kothari commission recommended that 6% of national income be devoted to education. Sadly, this target is yet to be achieved.\n",
      "Mody makes the case that India has delayed the provision of public goods such as education, health care and infrastructure for far too long. There has been progress – for example, primary school enrolment is now near universal in India, but the quality of education remains very poor. The neglect of primary education results in low worker productivity, which erodes the advantage of low labour costs in Indian industry.\n",
      "Alongside the many economic insights, Mody also focuses on what he calls a Catch-22 situation – the erosion of norms and accountability, the restoration of which would require accountability. One only needs to think of regular reports from UP and Bihar, among other states, to see that erosion of norms and accountability is an uncharacteristically restrained phrase to describe the high corruption, white-collar thievery and the criminalisation of politics.\n",
      "Again, it is notable that the rot had started early. Mody notes that Nehru was already dismissing concerns about corruption in the late 1950s and that in August 1962, home minister Lal Bahadur Shastri said in parliament that the government had punished 20,000 officials for corruption over the previous five years.\n",
      "The Santhanam committee report in 1963 highlighted a culture of corruption in government – apparently the going commission rate for PWD contracts was between 7% and 11% at the time. That indicative metric has jumped four to sixfold, if the ‘40% sarkara’ allegations are anything to go by.\n",
      "Also Read: Ten Factors to Remember Amidst the Congress’s Win and BJP’s Defeat in Karnataka\n",
      "During the Indira Gandhi years, political corruption reached the very top, with Sanjay Gandhi, her heir apparent and poster boy for undeserved privileges, becoming the focal point for Congress party funds. Stories of briefcases of cash changing hands in exchange for business licenses and permits during this era abound.\n",
      "Busting yet another myth about bureaucratic control arising from socialism during the Nehru era, Mody traces the origins of the notorious ‘license-permit raj’, quoting from I.G. Patel’s memoirs.\n",
      "Import licensing was simply an ad hoc response to dwindling foreign exchange reserves in late 1956 and early 1957 due to the heavy import demands of the second five-year plan. It took on a life of its own and soon led to industrial licensing, and to many creative opportunities for lobbying and political contributions by businesses in pursuit of their interests. Today’s crony capitalism is just a newer version of this.\n",
      "Overall, the primary attraction of Mody’s book is that it is a narrative of India’s post-independence political economy and not simply an account of policy mis-steps and economic shocks. The book provides a well-informed and sceptical evaluation of the Indian economy, most importantly of the disconnect between decades of pious rhetoric and underwhelming eventual outcomes.\n",
      "After all is said and done, what is the answer to the simplistic question: is India doing well economically? Mody’s book says it is not, with its title reflecting the author’s downbeat assessment.\n",
      "But then, how does one square this with the lived experience of many Indians? They see the six-lane expressways, Vande Bharat trains, malls, shiny airports, gated multi-storied apartment buildings (with separate lifts for the help), UPI and a hundred-plus unicorns. They are only dimly aware of another India in which people are struggling to find jobs while battling the spiralling cost of living, poverty, deprivation and social injustice.\n",
      "The big difficulty is that these two portraits of India are simultaneously true – which is what leads to the clashing narratives and cognitive dissonance. There is some truth to what has long been a cliche: you can make a good case for every generalisation about India as well as its opposite.\n",
      "Does this mean that the two views are only different in their perception about the metaphorical glass being half full or half empty?\n",
      "Not quite. Economic growth has benefited middle and upper-class Indians the most. This is a significant fraction, but not a majority.\n",
      "About one-third of Indian households earn more than Rs 5 lakh per year, and can be classified as middle or upper class, according to one survey from November 2022. This segment dominates the political and media discourse, and thinks that the country is doing just fine. The remaining two-thirds of the population is struggling, in one way or another.\n",
      "Perhaps fair to say then, that the glass is two-thirds empty.\n",
      "Vijay Poduri is a quantitative finance researcher based in the San Francisco bay area. He has a Ph. D. in Physics and is a CFA charterholder. He has a deep interest in economic history and development and is working on a book on the prosperity of nations. **\n",
      " **\n",
      " **\n",
      " **\n"
     ]
    },
    {
     "ename": "KeyboardInterrupt",
     "evalue": "",
     "output_type": "error",
     "traceback": [
      "\u001b[1;31m---------------------------------------------------------------------------\u001b[0m",
      "\u001b[1;31mKeyboardInterrupt\u001b[0m                         Traceback (most recent call last)",
      "\u001b[1;32md:\\B.Sc CS\\Semester 5\\DAV\\Article_Extraction\\theWire.ipynb Cell 7\u001b[0m line \u001b[0;36m8\n\u001b[0;32m      <a href='vscode-notebook-cell:/d%3A/B.Sc%20CS/Semester%205/DAV/Article_Extraction/theWire.ipynb#W6sZmlsZQ%3D%3D?line=4'>5</a>\u001b[0m wait \u001b[39m=\u001b[39m WebDriverWait(driver, \u001b[39m10\u001b[39m)\n\u001b[0;32m      <a href='vscode-notebook-cell:/d%3A/B.Sc%20CS/Semester%205/DAV/Article_Extraction/theWire.ipynb#W6sZmlsZQ%3D%3D?line=5'>6</a>\u001b[0m \u001b[39mtry\u001b[39;00m:\n\u001b[0;32m      <a href='vscode-notebook-cell:/d%3A/B.Sc%20CS/Semester%205/DAV/Article_Extraction/theWire.ipynb#W6sZmlsZQ%3D%3D?line=6'>7</a>\u001b[0m     \u001b[39m# Use WebDriverWait to wait for the presence of the element\u001b[39;00m\n\u001b[1;32m----> <a href='vscode-notebook-cell:/d%3A/B.Sc%20CS/Semester%205/DAV/Article_Extraction/theWire.ipynb#W6sZmlsZQ%3D%3D?line=7'>8</a>\u001b[0m     element \u001b[39m=\u001b[39m wait\u001b[39m.\u001b[39;49muntil(\n\u001b[0;32m      <a href='vscode-notebook-cell:/d%3A/B.Sc%20CS/Semester%205/DAV/Article_Extraction/theWire.ipynb#W6sZmlsZQ%3D%3D?line=8'>9</a>\u001b[0m         EC\u001b[39m.\u001b[39;49mpresence_of_element_located((By\u001b[39m.\u001b[39;49mXPATH, \u001b[39m'\u001b[39;49m\u001b[39m/html/body/div[3]/div/div[1]/div[3]/div/div/section/div[3]/div[2]/div[2]\u001b[39;49m\u001b[39m'\u001b[39;49m))\n\u001b[0;32m     <a href='vscode-notebook-cell:/d%3A/B.Sc%20CS/Semester%205/DAV/Article_Extraction/theWire.ipynb#W6sZmlsZQ%3D%3D?line=9'>10</a>\u001b[0m     )\n\u001b[0;32m     <a href='vscode-notebook-cell:/d%3A/B.Sc%20CS/Semester%205/DAV/Article_Extraction/theWire.ipynb#W6sZmlsZQ%3D%3D?line=11'>12</a>\u001b[0m     \u001b[39m# Once the element is present, retrieve its text\u001b[39;00m\n\u001b[0;32m     <a href='vscode-notebook-cell:/d%3A/B.Sc%20CS/Semester%205/DAV/Article_Extraction/theWire.ipynb#W6sZmlsZQ%3D%3D?line=12'>13</a>\u001b[0m     content \u001b[39m=\u001b[39m element\u001b[39m.\u001b[39mtext\n",
      "File \u001b[1;32m~\\AppData\\Local\\Packages\\PythonSoftwareFoundation.Python.3.10_qbz5n2kfra8p0\\LocalCache\\local-packages\\Python310\\site-packages\\selenium\\webdriver\\support\\wait.py:92\u001b[0m, in \u001b[0;36mWebDriverWait.until\u001b[1;34m(self, method, message)\u001b[0m\n\u001b[0;32m     90\u001b[0m     screen \u001b[39m=\u001b[39m \u001b[39mgetattr\u001b[39m(exc, \u001b[39m\"\u001b[39m\u001b[39mscreen\u001b[39m\u001b[39m\"\u001b[39m, \u001b[39mNone\u001b[39;00m)\n\u001b[0;32m     91\u001b[0m     stacktrace \u001b[39m=\u001b[39m \u001b[39mgetattr\u001b[39m(exc, \u001b[39m\"\u001b[39m\u001b[39mstacktrace\u001b[39m\u001b[39m\"\u001b[39m, \u001b[39mNone\u001b[39;00m)\n\u001b[1;32m---> 92\u001b[0m time\u001b[39m.\u001b[39;49msleep(\u001b[39mself\u001b[39;49m\u001b[39m.\u001b[39;49m_poll)\n\u001b[0;32m     93\u001b[0m \u001b[39mif\u001b[39;00m time\u001b[39m.\u001b[39mmonotonic() \u001b[39m>\u001b[39m end_time:\n\u001b[0;32m     94\u001b[0m     \u001b[39mbreak\u001b[39;00m\n",
      "\u001b[1;31mKeyboardInterrupt\u001b[0m: "
     ]
    }
   ],
   "source": [
    "content_list=[]\n",
    "for link in linksList:\n",
    "    driver.get(url=link)\n",
    "    \n",
    "    # Wait for the element to be present before attempting to find it\n",
    "    wait = WebDriverWait(driver, 4)\n",
    "    try:\n",
    "        # Use WebDriverWait to wait for the presence of the element\n",
    "        element = wait.until(\n",
    "            EC.presence_of_element_located((By.XPATH, '/html/body/div[3]/div/div[1]/div[3]/div/div/section/div[3]/div[2]/div[2]'))\n",
    "        )\n",
    "        \n",
    "        # Once the element is present, retrieve its text\n",
    "        content = element.text\n",
    "    except Exception as h:\n",
    "        # Handle the exception, e.g., if the element is not found\n",
    "        content = ''\n",
    "    finally:\n",
    "        content_list.append(content)"
   ]
  },
  {
   "cell_type": "code",
   "execution_count": null,
   "metadata": {},
   "outputs": [],
   "source": [
    "import pandas\n",
    "article_list=list(zip(articlesList,linksList, publish_details,content_list))\n",
    "# print(article_list)\n",
    "df=pandas.DataFrame(article_list,columns=['title','link','publish_details','content'])\n"
   ]
  },
  {
   "cell_type": "code",
   "execution_count": null,
   "metadata": {},
   "outputs": [],
   "source": [
    "print(df)"
   ]
  },
  {
   "cell_type": "code",
   "execution_count": null,
   "metadata": {},
   "outputs": [],
   "source": [
    "# print(articles_dict)\n",
    "print(len(articlesList))"
   ]
  },
  {
   "cell_type": "code",
   "execution_count": null,
   "metadata": {},
   "outputs": [],
   "source": [
    "df.to_csv('output.csv', index=False)\n",
    "\n",
    "print(\"DataFrame successfully saved to output.csv\")"
   ]
  }
 ],
 "metadata": {
  "kernelspec": {
   "display_name": "Python 3",
   "language": "python",
   "name": "python3"
  },
  "language_info": {
   "codemirror_mode": {
    "name": "ipython",
    "version": 3
   },
   "file_extension": ".py",
   "mimetype": "text/x-python",
   "name": "python",
   "nbconvert_exporter": "python",
   "pygments_lexer": "ipython3",
   "version": "3.10.11"
  }
 },
 "nbformat": 4,
 "nbformat_minor": 2
}

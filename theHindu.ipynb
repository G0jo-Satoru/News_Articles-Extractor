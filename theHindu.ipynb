{
 "cells": [
  {
   "cell_type": "code",
   "execution_count": 72,
   "metadata": {},
   "outputs": [],
   "source": [
    "from selenium import webdriver\n",
    "from selenium.webdriver.common.by import By\n",
    "from selenium.webdriver.support.wait import WebDriverWait\n",
    "from selenium.webdriver.support import expected_conditions as EC\n",
    "\n",
    "import csv"
   ]
  },
  {
   "cell_type": "code",
   "execution_count": 73,
   "metadata": {},
   "outputs": [],
   "source": [
    "driver=webdriver.Chrome()"
   ]
  },
  {
   "cell_type": "code",
   "execution_count": 74,
   "metadata": {},
   "outputs": [],
   "source": [
    "import time\n",
    "driver.get(url=\"https://www.thehindu.com/search/#gsc.tab=0&gsc.q=Indian%20Economy&gsc.sort=\")\n",
    "wait = WebDriverWait(driver, 10) "
   ]
  },
  {
   "cell_type": "code",
   "execution_count": 79,
   "metadata": {},
   "outputs": [
    {
     "name": "stdout",
     "output_type": "stream",
     "text": [
      "https://www.thehindu.com/search/#gsc.tab=0&gsc.q=Indian%20Economy&gsc.sort=&gsc.page=0\n",
      "Indian economy poised for long-term growth: experts - The Hindu\n",
      "1\n",
      "https://www.thehindu.com/search/#gsc.tab=0&gsc.q=Indian%20Economy&gsc.sort=&gsc.page=1\n",
      "Indian economy poised for long-term growth: experts - The Hindu\n",
      "2\n",
      "https://www.thehindu.com/search/#gsc.tab=0&gsc.q=Indian%20Economy&gsc.sort=&gsc.page=2\n",
      "Indian economy poised for long-term growth: experts - The Hindu\n"
     ]
    },
    {
     "ename": "StaleElementReferenceException",
     "evalue": "Message: stale element reference: stale element not found\n  (Session info: chrome=119.0.6045.160); For documentation on this error, please visit: https://www.selenium.dev/documentation/webdriver/troubleshooting/errors#stale-element-reference-exception\nStacktrace:\n\tGetHandleVerifier [0x00007FF77D8D82B2+55298]\n\t(No symbol) [0x00007FF77D845E02]\n\t(No symbol) [0x00007FF77D7005AB]\n\t(No symbol) [0x00007FF77D70509C]\n\t(No symbol) [0x00007FF77D706FDF]\n\t(No symbol) [0x00007FF77D7070D0]\n\t(No symbol) [0x00007FF77D73CDFE]\n\t(No symbol) [0x00007FF77D7620AA]\n\t(No symbol) [0x00007FF77D7380CF]\n\t(No symbol) [0x00007FF77D7622C0]\n\t(No symbol) [0x00007FF77D77AAA4]\n\t(No symbol) [0x00007FF77D761E83]\n\t(No symbol) [0x00007FF77D73670A]\n\t(No symbol) [0x00007FF77D737964]\n\tGetHandleVerifier [0x00007FF77DC50AAB+3694587]\n\tGetHandleVerifier [0x00007FF77DCA728E+4048862]\n\tGetHandleVerifier [0x00007FF77DC9F173+4015811]\n\tGetHandleVerifier [0x00007FF77D9747D6+695590]\n\t(No symbol) [0x00007FF77D850CE8]\n\t(No symbol) [0x00007FF77D84CF34]\n\t(No symbol) [0x00007FF77D84D062]\n\t(No symbol) [0x00007FF77D83D3A3]\n\tBaseThreadInitThunk [0x00007FFC8AF3257D+29]\n\tRtlUserThreadStart [0x00007FFC8B6EAA58+40]\n",
     "output_type": "error",
     "traceback": [
      "\u001b[1;31m---------------------------------------------------------------------------\u001b[0m",
      "\u001b[1;31mStaleElementReferenceException\u001b[0m            Traceback (most recent call last)",
      "\u001b[1;32md:\\B.Sc CS\\Semester 5\\DAV\\Article_Extraction\\theHindu.ipynb Cell 4\u001b[0m line \u001b[0;36m2\n\u001b[0;32m     <a href='vscode-notebook-cell:/d%3A/B.Sc%20CS/Semester%205/DAV/Article_Extraction/theHindu.ipynb#W3sZmlsZQ%3D%3D?line=13'>14</a>\u001b[0m articles \u001b[39m=\u001b[39m driver\u001b[39m.\u001b[39mfind_element(By\u001b[39m.\u001b[39mXPATH, \u001b[39mf\u001b[39m\u001b[39m'\u001b[39m\u001b[39m/html/body/section[2]/div/div[2]/div[2]/div/div/div/div/div[5]/div[2]/div/div/div[1]/div[\u001b[39m\u001b[39m{\u001b[39;00mj\u001b[39m}\u001b[39;00m\u001b[39m]/div/div[1]/div/a\u001b[39m\u001b[39m'\u001b[39m)\n\u001b[0;32m     <a href='vscode-notebook-cell:/d%3A/B.Sc%20CS/Semester%205/DAV/Article_Extraction/theHindu.ipynb#W3sZmlsZQ%3D%3D?line=14'>15</a>\u001b[0m \u001b[39m# print(articles.text)\u001b[39;00m\n\u001b[0;32m     <a href='vscode-notebook-cell:/d%3A/B.Sc%20CS/Semester%205/DAV/Article_Extraction/theHindu.ipynb#W3sZmlsZQ%3D%3D?line=15'>16</a>\u001b[0m \u001b[39m# publish_details = driver.find_element(By.XPATH, )\u001b[39;00m\n\u001b[0;32m     <a href='vscode-notebook-cell:/d%3A/B.Sc%20CS/Semester%205/DAV/Article_Extraction/theHindu.ipynb#W3sZmlsZQ%3D%3D?line=17'>18</a>\u001b[0m details \u001b[39m=\u001b[39m {\n\u001b[0;32m     <a href='vscode-notebook-cell:/d%3A/B.Sc%20CS/Semester%205/DAV/Article_Extraction/theHindu.ipynb#W3sZmlsZQ%3D%3D?line=18'>19</a>\u001b[0m     \u001b[39m'\u001b[39m\u001b[39mid\u001b[39m\u001b[39m'\u001b[39m: k,\n\u001b[0;32m     <a href='vscode-notebook-cell:/d%3A/B.Sc%20CS/Semester%205/DAV/Article_Extraction/theHindu.ipynb#W3sZmlsZQ%3D%3D?line=19'>20</a>\u001b[0m     \u001b[39m'\u001b[39m\u001b[39mpublisher\u001b[39m\u001b[39m'\u001b[39m: \u001b[39m\"\u001b[39m\u001b[39mThe Hindu\u001b[39m\u001b[39m\"\u001b[39m,\n\u001b[1;32m---> <a href='vscode-notebook-cell:/d%3A/B.Sc%20CS/Semester%205/DAV/Article_Extraction/theHindu.ipynb#W3sZmlsZQ%3D%3D?line=20'>21</a>\u001b[0m     \u001b[39m'\u001b[39m\u001b[39mtitle\u001b[39m\u001b[39m'\u001b[39m: articles\u001b[39m.\u001b[39;49mtext,\n\u001b[0;32m     <a href='vscode-notebook-cell:/d%3A/B.Sc%20CS/Semester%205/DAV/Article_Extraction/theHindu.ipynb#W3sZmlsZQ%3D%3D?line=21'>22</a>\u001b[0m     \u001b[39m'\u001b[39m\u001b[39mlink\u001b[39m\u001b[39m'\u001b[39m: articles\u001b[39m.\u001b[39mget_attribute(\u001b[39m'\u001b[39m\u001b[39mhref\u001b[39m\u001b[39m'\u001b[39m),\n\u001b[0;32m     <a href='vscode-notebook-cell:/d%3A/B.Sc%20CS/Semester%205/DAV/Article_Extraction/theHindu.ipynb#W3sZmlsZQ%3D%3D?line=22'>23</a>\u001b[0m     \u001b[39m'\u001b[39m\u001b[39mpublish_details\u001b[39m\u001b[39m'\u001b[39m: \u001b[39m'\u001b[39m\u001b[39m'\u001b[39m,\n\u001b[0;32m     <a href='vscode-notebook-cell:/d%3A/B.Sc%20CS/Semester%205/DAV/Article_Extraction/theHindu.ipynb#W3sZmlsZQ%3D%3D?line=23'>24</a>\u001b[0m     \u001b[39m'\u001b[39m\u001b[39mcontent\u001b[39m\u001b[39m'\u001b[39m: \u001b[39m\"\u001b[39m\u001b[39m\"\u001b[39m\n\u001b[0;32m     <a href='vscode-notebook-cell:/d%3A/B.Sc%20CS/Semester%205/DAV/Article_Extraction/theHindu.ipynb#W3sZmlsZQ%3D%3D?line=24'>25</a>\u001b[0m }\n\u001b[0;32m     <a href='vscode-notebook-cell:/d%3A/B.Sc%20CS/Semester%205/DAV/Article_Extraction/theHindu.ipynb#W3sZmlsZQ%3D%3D?line=25'>26</a>\u001b[0m \u001b[39m# print(details)\u001b[39;00m\n\u001b[0;32m     <a href='vscode-notebook-cell:/d%3A/B.Sc%20CS/Semester%205/DAV/Article_Extraction/theHindu.ipynb#W3sZmlsZQ%3D%3D?line=27'>28</a>\u001b[0m articles_dict[\u001b[39mf\u001b[39m\u001b[39m'\u001b[39m\u001b[39m{\u001b[39;00mk\u001b[39m}\u001b[39;00m\u001b[39m'\u001b[39m] \u001b[39m=\u001b[39m details\n",
      "File \u001b[1;32m~\\AppData\\Local\\Packages\\PythonSoftwareFoundation.Python.3.10_qbz5n2kfra8p0\\LocalCache\\local-packages\\Python310\\site-packages\\selenium\\webdriver\\remote\\webelement.py:89\u001b[0m, in \u001b[0;36mWebElement.text\u001b[1;34m(self)\u001b[0m\n\u001b[0;32m     86\u001b[0m \u001b[39m@property\u001b[39m\n\u001b[0;32m     87\u001b[0m \u001b[39mdef\u001b[39;00m \u001b[39mtext\u001b[39m(\u001b[39mself\u001b[39m) \u001b[39m-\u001b[39m\u001b[39m>\u001b[39m \u001b[39mstr\u001b[39m:\n\u001b[0;32m     88\u001b[0m \u001b[39m    \u001b[39m\u001b[39m\"\"\"The text of the element.\"\"\"\u001b[39;00m\n\u001b[1;32m---> 89\u001b[0m     \u001b[39mreturn\u001b[39;00m \u001b[39mself\u001b[39;49m\u001b[39m.\u001b[39;49m_execute(Command\u001b[39m.\u001b[39;49mGET_ELEMENT_TEXT)[\u001b[39m\"\u001b[39m\u001b[39mvalue\u001b[39m\u001b[39m\"\u001b[39m]\n",
      "File \u001b[1;32m~\\AppData\\Local\\Packages\\PythonSoftwareFoundation.Python.3.10_qbz5n2kfra8p0\\LocalCache\\local-packages\\Python310\\site-packages\\selenium\\webdriver\\remote\\webelement.py:394\u001b[0m, in \u001b[0;36mWebElement._execute\u001b[1;34m(self, command, params)\u001b[0m\n\u001b[0;32m    392\u001b[0m     params \u001b[39m=\u001b[39m {}\n\u001b[0;32m    393\u001b[0m params[\u001b[39m\"\u001b[39m\u001b[39mid\u001b[39m\u001b[39m\"\u001b[39m] \u001b[39m=\u001b[39m \u001b[39mself\u001b[39m\u001b[39m.\u001b[39m_id\n\u001b[1;32m--> 394\u001b[0m \u001b[39mreturn\u001b[39;00m \u001b[39mself\u001b[39;49m\u001b[39m.\u001b[39;49m_parent\u001b[39m.\u001b[39;49mexecute(command, params)\n",
      "File \u001b[1;32m~\\AppData\\Local\\Packages\\PythonSoftwareFoundation.Python.3.10_qbz5n2kfra8p0\\LocalCache\\local-packages\\Python310\\site-packages\\selenium\\webdriver\\remote\\webdriver.py:344\u001b[0m, in \u001b[0;36mWebDriver.execute\u001b[1;34m(self, driver_command, params)\u001b[0m\n\u001b[0;32m    342\u001b[0m response \u001b[39m=\u001b[39m \u001b[39mself\u001b[39m\u001b[39m.\u001b[39mcommand_executor\u001b[39m.\u001b[39mexecute(driver_command, params)\n\u001b[0;32m    343\u001b[0m \u001b[39mif\u001b[39;00m response:\n\u001b[1;32m--> 344\u001b[0m     \u001b[39mself\u001b[39;49m\u001b[39m.\u001b[39;49merror_handler\u001b[39m.\u001b[39;49mcheck_response(response)\n\u001b[0;32m    345\u001b[0m     response[\u001b[39m\"\u001b[39m\u001b[39mvalue\u001b[39m\u001b[39m\"\u001b[39m] \u001b[39m=\u001b[39m \u001b[39mself\u001b[39m\u001b[39m.\u001b[39m_unwrap_value(response\u001b[39m.\u001b[39mget(\u001b[39m\"\u001b[39m\u001b[39mvalue\u001b[39m\u001b[39m\"\u001b[39m, \u001b[39mNone\u001b[39;00m))\n\u001b[0;32m    346\u001b[0m     \u001b[39mreturn\u001b[39;00m response\n",
      "File \u001b[1;32m~\\AppData\\Local\\Packages\\PythonSoftwareFoundation.Python.3.10_qbz5n2kfra8p0\\LocalCache\\local-packages\\Python310\\site-packages\\selenium\\webdriver\\remote\\errorhandler.py:229\u001b[0m, in \u001b[0;36mErrorHandler.check_response\u001b[1;34m(self, response)\u001b[0m\n\u001b[0;32m    227\u001b[0m         alert_text \u001b[39m=\u001b[39m value[\u001b[39m\"\u001b[39m\u001b[39malert\u001b[39m\u001b[39m\"\u001b[39m]\u001b[39m.\u001b[39mget(\u001b[39m\"\u001b[39m\u001b[39mtext\u001b[39m\u001b[39m\"\u001b[39m)\n\u001b[0;32m    228\u001b[0m     \u001b[39mraise\u001b[39;00m exception_class(message, screen, stacktrace, alert_text)  \u001b[39m# type: ignore[call-arg]  # mypy is not smart enough here\u001b[39;00m\n\u001b[1;32m--> 229\u001b[0m \u001b[39mraise\u001b[39;00m exception_class(message, screen, stacktrace)\n",
      "\u001b[1;31mStaleElementReferenceException\u001b[0m: Message: stale element reference: stale element not found\n  (Session info: chrome=119.0.6045.160); For documentation on this error, please visit: https://www.selenium.dev/documentation/webdriver/troubleshooting/errors#stale-element-reference-exception\nStacktrace:\n\tGetHandleVerifier [0x00007FF77D8D82B2+55298]\n\t(No symbol) [0x00007FF77D845E02]\n\t(No symbol) [0x00007FF77D7005AB]\n\t(No symbol) [0x00007FF77D70509C]\n\t(No symbol) [0x00007FF77D706FDF]\n\t(No symbol) [0x00007FF77D7070D0]\n\t(No symbol) [0x00007FF77D73CDFE]\n\t(No symbol) [0x00007FF77D7620AA]\n\t(No symbol) [0x00007FF77D7380CF]\n\t(No symbol) [0x00007FF77D7622C0]\n\t(No symbol) [0x00007FF77D77AAA4]\n\t(No symbol) [0x00007FF77D761E83]\n\t(No symbol) [0x00007FF77D73670A]\n\t(No symbol) [0x00007FF77D737964]\n\tGetHandleVerifier [0x00007FF77DC50AAB+3694587]\n\tGetHandleVerifier [0x00007FF77DCA728E+4048862]\n\tGetHandleVerifier [0x00007FF77DC9F173+4015811]\n\tGetHandleVerifier [0x00007FF77D9747D6+695590]\n\t(No symbol) [0x00007FF77D850CE8]\n\t(No symbol) [0x00007FF77D84CF34]\n\t(No symbol) [0x00007FF77D84D062]\n\t(No symbol) [0x00007FF77D83D3A3]\n\tBaseThreadInitThunk [0x00007FFC8AF3257D+29]\n\tRtlUserThreadStart [0x00007FFC8B6EAA58+40]\n"
     ]
    }
   ],
   "source": [
    "articles_dict = {}\n",
    "k = 0\n",
    "iter_flag = True\n",
    "pageNo = 0\n",
    "\n",
    "while(iter_flag):\n",
    "    nextPageUrl=f'https://www.thehindu.com/search/#gsc.tab=0&gsc.q=Indian%20Economy&gsc.sort=&gsc.page={pageNo}'\n",
    "    print(nextPageUrl)\n",
    "    pageNo=pageNo+1\n",
    "    driver.get(url=nextPageUrl)\n",
    "    print(driver.find_element(By.XPATH,'//*[@id=\"___gcse_0\"]/div/div/div/div[5]/div[2]/div/div/div[1]/div[1]/div/div[1]/div/a').text)\n",
    "    \n",
    "    for j in range(1, 10):\n",
    "            articles = driver.find_element(By.XPATH, f'/html/body/section[2]/div/div[2]/div[2]/div/div/div/div/div[5]/div[2]/div/div/div[1]/div[{j}]/div/div[1]/div/a')\n",
    "            # print(articles.text)\n",
    "            # publish_details = driver.find_element(By.XPATH, )\n",
    "            \n",
    "            details = {\n",
    "                'id': k,\n",
    "                'publisher': \"The Hindu\",\n",
    "                'title': articles.text,\n",
    "                'link': articles.get_attribute('href'),\n",
    "                'publish_details': '',\n",
    "                'content': \"\"\n",
    "            }\n",
    "            # print(details)\n",
    "\n",
    "            articles_dict[f'{k}'] = details\n",
    "            k=k+1\n",
    "    \n",
    "    \n",
    "    if (k >= 30):\n",
    "        iter_flag = False\n",
    "    else:\n",
    "        print(pageNo)      \n",
    "\n",
    "print(articles_dict)\n"
   ]
  },
  {
   "cell_type": "code",
   "execution_count": null,
   "metadata": {},
   "outputs": [],
   "source": [
    "for keys in articles_dict.keys():\n",
    "    link=articles_dict[keys]['link']\n",
    "    print(link)\n",
    "    driver.get(link)\n",
    "    try:\n",
    "        content=driver.find_element(By.XPATH,'/html/body/section[2]/div/div/div[1]/div[3]/div[4]').text\n",
    "    except Exception as e:\n",
    "        try:\n",
    "            content=driver.find_element(By.XPATH,'/html/body/section[2]/div/div/div[1]/div[3]/div[3]').text\n",
    "        except Exception as f:\n",
    "            content=''\n",
    "    finally:\n",
    "        articles_dict[keys]['content']=content"
   ]
  },
  {
   "cell_type": "code",
   "execution_count": 67,
   "metadata": {},
   "outputs": [
    {
     "name": "stdout",
     "output_type": "stream",
     "text": [
      "{'0': {'id': 0, 'publisher': 'The Hindu', 'title': 'Indian economy poised for long-term growth: experts - The Hindu', 'link': 'https://www.thehindu.com/news/cities/kozhikode/indian-economy-poised-for-long-term-growth-experts/article25349580.ece', 'publish_details': '', 'content': ''}, '1': {'id': 1, 'publisher': 'The Hindu', 'title': \"India's economy stable, all sectors looking up, says PM Modi - The ...\", 'link': 'https://www.thehindu.com/news/national/indias-economy-stable-all-sectors-looking-up-says-pm/article33032348.ece', 'publish_details': '', 'content': ''}, '2': {'id': 2, 'publisher': 'The Hindu', 'title': 'Indian economy to contract by 4% in 2020-21, forecasts ADB - The ...', 'link': 'https://www.thehindu.com/business/Economy/indian-economy-to-contract-by-4-in-2020-21-forecasts-adb/article31863511.ece', 'publish_details': '', 'content': ''}, '3': {'id': 3, 'publisher': 'The Hindu', 'title': 'Economy news, Latest Economic News, GDP, World Economy ...', 'link': 'https://www.thehindu.com/business/Economy/', 'publish_details': '', 'content': ''}, '4': {'id': 4, 'publisher': 'The Hindu', 'title': 'Indian economy is in a bright spot, says Narendra Modi - The Hindu', 'link': 'https://www.thehindu.com/business/Economy/indian-economy-is-a-bright-spot-says-narendra-modi/article24260605.ece', 'publish_details': '', 'content': ''}, '5': {'id': 5, 'publisher': 'The Hindu', 'title': 'Miles to go: The Hindu Editorial on the state of the Indian economy ...', 'link': 'https://www.thehindu.com/opinion/editorial/miles-to-go-the-hindu-editorial-on-the-state-of-the-indian-economy/article66957907.ece', 'publish_details': '', 'content': ''}, '6': {'id': 6, 'publisher': 'The Hindu', 'title': 'IMF projects sharp contraction of 4.5% in Indian economy in 2020 ...', 'link': 'https://www.thehindu.com/business/Economy/imf-projects-sharp-contraction-of-45-in-indian-economy-in-2020/article31907715.ece', 'publish_details': '', 'content': ''}, '7': {'id': 7, 'publisher': 'The Hindu', 'title': \"'Indian economy facing unprecedented recession' - The Hindu\", 'link': 'https://www.thehindu.com/news/national/andhra-pradesh/indian-economy-facing-unprecedented-recession/article34468153.ece', 'publish_details': '', 'content': ''}, '8': {'id': 8, 'publisher': 'The Hindu', 'title': \"Moody's poll finds oil prices main risk to Indian economy | Business ...\", 'link': 'https://www.thehindu.com/business/Economy/moodys-poll-finds-oil-prices-main-risk-to-indian-economy/article24329329.ece', 'publish_details': '', 'content': ''}}\n"
     ]
    }
   ],
   "source": [
    "print(articles_dict)"
   ]
  },
  {
   "cell_type": "code",
   "execution_count": null,
   "metadata": {},
   "outputs": [],
   "source": [
    "# Flatten the nested structure\n",
    "flat_articles_list = []\n",
    "for article_id, article_data in articles_dict.items():\n",
    "    flat_article = {'id': article_data['id'], 'publisher': article_data['publisher'], 'title': article_data['title'], 'link': article_data['link'], 'publish_details': article_data['publish_details'], 'content': article_data['content']}\n",
    "    flat_articles_list.append(flat_article)\n",
    "\n",
    "# Specify the CSV file path\n",
    "csv_file_path = 'theHindu.csv'\n",
    "\n",
    "# Write the flattened data to a CSV file\n",
    "with open(csv_file_path, 'w', newline='', encoding='utf-8') as csv_file:\n",
    "    fieldnames = ['id', 'publisher', 'title', 'link', 'publish_details', 'content']\n",
    "    writer = csv.DictWriter(csv_file, fieldnames=fieldnames)\n",
    "    \n",
    "    # Write the header\n",
    "    writer.writeheader()\n",
    "    \n",
    "    # Write the data\n",
    "    writer.writerows(flat_articles_list)\n",
    "\n",
    "print(f\"The data has been written to '{csv_file_path}'.\")"
   ]
  }
 ],
 "metadata": {
  "kernelspec": {
   "display_name": "Python 3",
   "language": "python",
   "name": "python3"
  },
  "language_info": {
   "codemirror_mode": {
    "name": "ipython",
    "version": 3
   },
   "file_extension": ".py",
   "mimetype": "text/x-python",
   "name": "python",
   "nbconvert_exporter": "python",
   "pygments_lexer": "ipython3",
   "version": "3.10.11"
  }
 },
 "nbformat": 4,
 "nbformat_minor": 2
}

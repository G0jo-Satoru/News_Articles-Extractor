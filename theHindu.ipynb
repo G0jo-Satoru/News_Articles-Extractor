{
 "cells": [
  {
   "cell_type": "code",
   "execution_count": 4,
   "metadata": {},
   "outputs": [],
   "source": [
    "from selenium import webdriver\n",
    "from selenium.webdriver.common.by import By\n",
    "from selenium.webdriver.support.wait import WebDriverWait\n",
    "from selenium.webdriver.support import expected_conditions as EC\n",
    "\n",
    "import csv"
   ]
  },
  {
   "cell_type": "code",
   "execution_count": 12,
   "metadata": {},
   "outputs": [],
   "source": [
    "driver=webdriver.Chrome()\n",
    "wait = WebDriverWait(driver, 10)  "
   ]
  },
  {
   "cell_type": "code",
   "execution_count": null,
   "metadata": {},
   "outputs": [],
   "source": [
    "import time\n",
    "driver.get(url=\"https://www.thehindu.com/search/#gsc.tab=0&gsc.q=Indian%20Economy&gsc.sort=date\")\n",
    "wait = WebDriverWait(driver, 12) "
   ]
  },
  {
   "cell_type": "code",
   "execution_count": 13,
   "metadata": {},
   "outputs": [
    {
     "name": "stdout",
     "output_type": "stream",
     "text": [
      "https://www.thehindu.com/search/#gsc.tab=0&gsc.q=Indian%20Economy&gsc.sort=date&gsc.page=0\n",
      "Why increasing AC coaches and reducing Sleeper and Second ...\n",
      "Wilhelmsen Ship Management expands India office by adding two ...\n",
      "Union Minister Giriraj Singh asks Bihar CM Nitish to ban 'halal ...\n",
      "A sari collection on Indian goddesses with a side of martial arts - The ...\n",
      "Govindan accuses Governor of orchestrating a Sangh Parivar-UDF ...\n",
      "India growing faster owing to structural and bold reforms, says ...\n",
      "Chinese Premier Li calls for practical steps to implement consensus ...\n",
      "ISRO invites scientists, engineers and academia for capacity ...\n",
      "How Bengaluru band Savaari's anthem resonated with Team India's ...\n",
      "End the secrecy: The Hindu Editorial on the actions of Indian ...\n",
      "1\n",
      "https://www.thehindu.com/search/#gsc.tab=0&gsc.q=Indian%20Economy&gsc.sort=date&gsc.page=1\n",
      "Why increasing AC coaches and reducing Sleeper and Second ...\n",
      "Wilhelmsen Ship Management expands India office by adding two ...\n",
      "Union Minister Giriraj Singh asks Bihar CM Nitish to ban 'halal ...\n",
      "A sari collection on Indian goddesses with a side of martial arts - The ...\n",
      "Govindan accuses Governor of orchestrating a Sangh Parivar-UDF ...\n",
      "India growing faster owing to structural and bold reforms, says ...\n",
      "Chinese Premier Li calls for practical steps to implement consensus ...\n",
      "ISRO invites scientists, engineers and academia for capacity ...\n",
      "How Bengaluru band Savaari's anthem resonated with Team India's ...\n",
      "End the secrecy: The Hindu Editorial on the actions of Indian ...\n",
      "2\n",
      "https://www.thehindu.com/search/#gsc.tab=0&gsc.q=Indian%20Economy&gsc.sort=date&gsc.page=2\n",
      "Why increasing AC coaches and reducing Sleeper and Second ...\n",
      "Wilhelmsen Ship Management expands India office by adding two ...\n",
      "Union Minister Giriraj Singh asks Bihar CM Nitish to ban 'halal ...\n",
      "A sari collection on Indian goddesses with a side of martial arts - The ...\n",
      "Govindan accuses Governor of orchestrating a Sangh Parivar-UDF ...\n",
      "India growing faster owing to structural and bold reforms, says ...\n",
      "Exception encountered at :  25\n",
      "At COP 28, a fair share of the global carbon budget is at stake ...\n",
      "What has the U.K. Supreme Court ruled with respect to the Rwanda ...\n",
      "India plans to ask ONGC to consider rights issue to fund HPCL - The ...\n",
      "The 9th edition of Indian Photo Festival 2023 in Hyderabad ...\n",
      "3\n",
      "https://www.thehindu.com/search/#gsc.tab=0&gsc.q=Indian%20Economy&gsc.sort=date&gsc.page=3\n",
      "A $5 trillion economy, but for whom? - The Hindu\n",
      "Javier Milei | Argentina's President of chaos - The Hindu\n",
      "Deceptive signals: The Hindu Editorial on India's October 2023 ...\n",
      "V.P. Singh's special connect with Tamil Nadu and Dravidian rule ...\n",
      "Tamil Nadu plans to achieve Net Zero emissions at least a decade ...\n",
      "Chhattisgarh shows progress, but has a long way to go | Data - The ...\n",
      "At COP 28, a fair share of the global carbon budget is at stake ...\n",
      "What has the U.K. Supreme Court ruled with respect to the Rwanda ...\n",
      "India plans to ask ONGC to consider rights issue to fund HPCL - The ...\n",
      "The 9th edition of Indian Photo Festival 2023 in Hyderabad ...\n",
      "Exception encountered at :  39\n"
     ]
    },
    {
     "ename": "TimeoutException",
     "evalue": "Message: \nStacktrace:\n\tGetHandleVerifier [0x00007FF62FF282B2+55298]\n\t(No symbol) [0x00007FF62FE95E02]\n\t(No symbol) [0x00007FF62FD505AB]\n\t(No symbol) [0x00007FF62FD9175C]\n\t(No symbol) [0x00007FF62FD918DC]\n\t(No symbol) [0x00007FF62FDCCBC7]\n\t(No symbol) [0x00007FF62FDB20EF]\n\t(No symbol) [0x00007FF62FDCAAA4]\n\t(No symbol) [0x00007FF62FDB1E83]\n\t(No symbol) [0x00007FF62FD8670A]\n\t(No symbol) [0x00007FF62FD87964]\n\tGetHandleVerifier [0x00007FF6302A0AAB+3694587]\n\tGetHandleVerifier [0x00007FF6302F728E+4048862]\n\tGetHandleVerifier [0x00007FF6302EF173+4015811]\n\tGetHandleVerifier [0x00007FF62FFC47D6+695590]\n\t(No symbol) [0x00007FF62FEA0CE8]\n\t(No symbol) [0x00007FF62FE9CF34]\n\t(No symbol) [0x00007FF62FE9D062]\n\t(No symbol) [0x00007FF62FE8D3A3]\n\tBaseThreadInitThunk [0x00007FFC8AF3257D+29]\n\tRtlUserThreadStart [0x00007FFC8B6EAA58+40]\n",
     "output_type": "error",
     "traceback": [
      "\u001b[1;31m---------------------------------------------------------------------------\u001b[0m",
      "\u001b[1;31mStaleElementReferenceException\u001b[0m            Traceback (most recent call last)",
      "\u001b[1;32md:\\B.Sc CS\\Semester 5\\DAV\\Article_Extraction\\theHindu.ipynb Cell 4\u001b[0m line \u001b[0;36m2\n\u001b[0;32m     <a href='vscode-notebook-cell:/d%3A/B.Sc%20CS/Semester%205/DAV/Article_Extraction/theHindu.ipynb#W3sZmlsZQ%3D%3D?line=16'>17</a>\u001b[0m \u001b[39m# publish_details = driver.find_element(By.XPATH, )\u001b[39;00m\n\u001b[0;32m     <a href='vscode-notebook-cell:/d%3A/B.Sc%20CS/Semester%205/DAV/Article_Extraction/theHindu.ipynb#W3sZmlsZQ%3D%3D?line=17'>18</a>\u001b[0m details \u001b[39m=\u001b[39m {\n\u001b[0;32m     <a href='vscode-notebook-cell:/d%3A/B.Sc%20CS/Semester%205/DAV/Article_Extraction/theHindu.ipynb#W3sZmlsZQ%3D%3D?line=18'>19</a>\u001b[0m     \u001b[39m'\u001b[39m\u001b[39mid\u001b[39m\u001b[39m'\u001b[39m: k,\n\u001b[0;32m     <a href='vscode-notebook-cell:/d%3A/B.Sc%20CS/Semester%205/DAV/Article_Extraction/theHindu.ipynb#W3sZmlsZQ%3D%3D?line=19'>20</a>\u001b[0m     \u001b[39m'\u001b[39m\u001b[39mpublisher\u001b[39m\u001b[39m'\u001b[39m: \u001b[39m\"\u001b[39m\u001b[39mThe Hindu\u001b[39m\u001b[39m\"\u001b[39m,\n\u001b[0;32m     <a href='vscode-notebook-cell:/d%3A/B.Sc%20CS/Semester%205/DAV/Article_Extraction/theHindu.ipynb#W3sZmlsZQ%3D%3D?line=20'>21</a>\u001b[0m     \u001b[39m'\u001b[39m\u001b[39mtitle\u001b[39m\u001b[39m'\u001b[39m: articles\u001b[39m.\u001b[39mtext,\n\u001b[1;32m---> <a href='vscode-notebook-cell:/d%3A/B.Sc%20CS/Semester%205/DAV/Article_Extraction/theHindu.ipynb#W3sZmlsZQ%3D%3D?line=21'>22</a>\u001b[0m     \u001b[39m'\u001b[39m\u001b[39mlink\u001b[39m\u001b[39m'\u001b[39m: articles\u001b[39m.\u001b[39;49mget_attribute(\u001b[39m'\u001b[39;49m\u001b[39mhref\u001b[39;49m\u001b[39m'\u001b[39;49m),\n\u001b[0;32m     <a href='vscode-notebook-cell:/d%3A/B.Sc%20CS/Semester%205/DAV/Article_Extraction/theHindu.ipynb#W3sZmlsZQ%3D%3D?line=22'>23</a>\u001b[0m     \u001b[39m'\u001b[39m\u001b[39mpublish_details\u001b[39m\u001b[39m'\u001b[39m: \u001b[39m'\u001b[39m\u001b[39m'\u001b[39m,\n\u001b[0;32m     <a href='vscode-notebook-cell:/d%3A/B.Sc%20CS/Semester%205/DAV/Article_Extraction/theHindu.ipynb#W3sZmlsZQ%3D%3D?line=23'>24</a>\u001b[0m     \u001b[39m'\u001b[39m\u001b[39mcontent\u001b[39m\u001b[39m'\u001b[39m: \u001b[39m\"\u001b[39m\u001b[39m\"\u001b[39m\n\u001b[0;32m     <a href='vscode-notebook-cell:/d%3A/B.Sc%20CS/Semester%205/DAV/Article_Extraction/theHindu.ipynb#W3sZmlsZQ%3D%3D?line=24'>25</a>\u001b[0m }\n\u001b[0;32m     <a href='vscode-notebook-cell:/d%3A/B.Sc%20CS/Semester%205/DAV/Article_Extraction/theHindu.ipynb#W3sZmlsZQ%3D%3D?line=25'>26</a>\u001b[0m \u001b[39m# print(details)\u001b[39;00m\n",
      "File \u001b[1;32m~\\AppData\\Local\\Packages\\PythonSoftwareFoundation.Python.3.10_qbz5n2kfra8p0\\LocalCache\\local-packages\\Python310\\site-packages\\selenium\\webdriver\\remote\\webelement.py:177\u001b[0m, in \u001b[0;36mWebElement.get_attribute\u001b[1;34m(self, name)\u001b[0m\n\u001b[0;32m    176\u001b[0m     _load_js()\n\u001b[1;32m--> 177\u001b[0m attribute_value \u001b[39m=\u001b[39m \u001b[39mself\u001b[39;49m\u001b[39m.\u001b[39;49mparent\u001b[39m.\u001b[39;49mexecute_script(\n\u001b[0;32m    178\u001b[0m     \u001b[39mf\u001b[39;49m\u001b[39m\"\u001b[39;49m\u001b[39m/* getAttribute */return (\u001b[39;49m\u001b[39m{\u001b[39;49;00mgetAttribute_js\u001b[39m}\u001b[39;49;00m\u001b[39m).apply(null, arguments);\u001b[39;49m\u001b[39m\"\u001b[39;49m, \u001b[39mself\u001b[39;49m, name\n\u001b[0;32m    179\u001b[0m )\n\u001b[0;32m    180\u001b[0m \u001b[39mreturn\u001b[39;00m attribute_value\n",
      "File \u001b[1;32m~\\AppData\\Local\\Packages\\PythonSoftwareFoundation.Python.3.10_qbz5n2kfra8p0\\LocalCache\\local-packages\\Python310\\site-packages\\selenium\\webdriver\\remote\\webdriver.py:404\u001b[0m, in \u001b[0;36mWebDriver.execute_script\u001b[1;34m(self, script, *args)\u001b[0m\n\u001b[0;32m    402\u001b[0m command \u001b[39m=\u001b[39m Command\u001b[39m.\u001b[39mW3C_EXECUTE_SCRIPT\n\u001b[1;32m--> 404\u001b[0m \u001b[39mreturn\u001b[39;00m \u001b[39mself\u001b[39;49m\u001b[39m.\u001b[39;49mexecute(command, {\u001b[39m\"\u001b[39;49m\u001b[39mscript\u001b[39;49m\u001b[39m\"\u001b[39;49m: script, \u001b[39m\"\u001b[39;49m\u001b[39margs\u001b[39;49m\u001b[39m\"\u001b[39;49m: converted_args})[\u001b[39m\"\u001b[39m\u001b[39mvalue\u001b[39m\u001b[39m\"\u001b[39m]\n",
      "File \u001b[1;32m~\\AppData\\Local\\Packages\\PythonSoftwareFoundation.Python.3.10_qbz5n2kfra8p0\\LocalCache\\local-packages\\Python310\\site-packages\\selenium\\webdriver\\remote\\webdriver.py:344\u001b[0m, in \u001b[0;36mWebDriver.execute\u001b[1;34m(self, driver_command, params)\u001b[0m\n\u001b[0;32m    343\u001b[0m \u001b[39mif\u001b[39;00m response:\n\u001b[1;32m--> 344\u001b[0m     \u001b[39mself\u001b[39;49m\u001b[39m.\u001b[39;49merror_handler\u001b[39m.\u001b[39;49mcheck_response(response)\n\u001b[0;32m    345\u001b[0m     response[\u001b[39m\"\u001b[39m\u001b[39mvalue\u001b[39m\u001b[39m\"\u001b[39m] \u001b[39m=\u001b[39m \u001b[39mself\u001b[39m\u001b[39m.\u001b[39m_unwrap_value(response\u001b[39m.\u001b[39mget(\u001b[39m\"\u001b[39m\u001b[39mvalue\u001b[39m\u001b[39m\"\u001b[39m, \u001b[39mNone\u001b[39;00m))\n",
      "File \u001b[1;32m~\\AppData\\Local\\Packages\\PythonSoftwareFoundation.Python.3.10_qbz5n2kfra8p0\\LocalCache\\local-packages\\Python310\\site-packages\\selenium\\webdriver\\remote\\errorhandler.py:229\u001b[0m, in \u001b[0;36mErrorHandler.check_response\u001b[1;34m(self, response)\u001b[0m\n\u001b[0;32m    228\u001b[0m     \u001b[39mraise\u001b[39;00m exception_class(message, screen, stacktrace, alert_text)  \u001b[39m# type: ignore[call-arg]  # mypy is not smart enough here\u001b[39;00m\n\u001b[1;32m--> 229\u001b[0m \u001b[39mraise\u001b[39;00m exception_class(message, screen, stacktrace)\n",
      "\u001b[1;31mStaleElementReferenceException\u001b[0m: Message: stale element reference: stale element not found\n  (Session info: chrome=119.0.6045.160); For documentation on this error, please visit: https://www.selenium.dev/documentation/webdriver/troubleshooting/errors#stale-element-reference-exception\nStacktrace:\n\tGetHandleVerifier [0x00007FF62FF282B2+55298]\n\t(No symbol) [0x00007FF62FE95E02]\n\t(No symbol) [0x00007FF62FD505AB]\n\t(No symbol) [0x00007FF62FD5509C]\n\t(No symbol) [0x00007FF62FD5732A]\n\t(No symbol) [0x00007FF62FDCB12B]\n\t(No symbol) [0x00007FF62FDB20AA]\n\t(No symbol) [0x00007FF62FDCAAA4]\n\t(No symbol) [0x00007FF62FDB1E83]\n\t(No symbol) [0x00007FF62FD8670A]\n\t(No symbol) [0x00007FF62FD87964]\n\tGetHandleVerifier [0x00007FF6302A0AAB+3694587]\n\tGetHandleVerifier [0x00007FF6302F728E+4048862]\n\tGetHandleVerifier [0x00007FF6302EF173+4015811]\n\tGetHandleVerifier [0x00007FF62FFC47D6+695590]\n\t(No symbol) [0x00007FF62FEA0CE8]\n\t(No symbol) [0x00007FF62FE9CF34]\n\t(No symbol) [0x00007FF62FE9D062]\n\t(No symbol) [0x00007FF62FE8D3A3]\n\tBaseThreadInitThunk [0x00007FFC8AF3257D+29]\n\tRtlUserThreadStart [0x00007FFC8B6EAA58+40]\n",
      "\nDuring handling of the above exception, another exception occurred:\n",
      "\u001b[1;31mTimeoutException\u001b[0m                          Traceback (most recent call last)",
      "\u001b[1;32md:\\B.Sc CS\\Semester 5\\DAV\\Article_Extraction\\theHindu.ipynb Cell 4\u001b[0m line \u001b[0;36m3\n\u001b[0;32m     <a href='vscode-notebook-cell:/d%3A/B.Sc%20CS/Semester%205/DAV/Article_Extraction/theHindu.ipynb#W3sZmlsZQ%3D%3D?line=30'>31</a>\u001b[0m \u001b[39mprint\u001b[39m(\u001b[39m'\u001b[39m\u001b[39mException encountered at : \u001b[39m\u001b[39m'\u001b[39m, k)\n\u001b[0;32m     <a href='vscode-notebook-cell:/d%3A/B.Sc%20CS/Semester%205/DAV/Article_Extraction/theHindu.ipynb#W3sZmlsZQ%3D%3D?line=31'>32</a>\u001b[0m driver\u001b[39m.\u001b[39mrefresh()\n\u001b[1;32m---> <a href='vscode-notebook-cell:/d%3A/B.Sc%20CS/Semester%205/DAV/Article_Extraction/theHindu.ipynb#W3sZmlsZQ%3D%3D?line=33'>34</a>\u001b[0m articles\u001b[39m=\u001b[39mwait\u001b[39m.\u001b[39;49muntil(EC\u001b[39m.\u001b[39;49mpresence_of_element_located((By\u001b[39m.\u001b[39;49mXPATH, \u001b[39mf\u001b[39;49m\u001b[39m'\u001b[39;49m\u001b[39m/html/body/section[2]/div/div[2]/div[2]/div/div/div/div/div[5]/div[2]/div/div/div[1]/div[\u001b[39;49m\u001b[39m{\u001b[39;49;00mj\u001b[39m}\u001b[39;49;00m\u001b[39m]/div/div[1]/div/a\u001b[39;49m\u001b[39m'\u001b[39;49m)))\n\u001b[0;32m     <a href='vscode-notebook-cell:/d%3A/B.Sc%20CS/Semester%205/DAV/Article_Extraction/theHindu.ipynb#W3sZmlsZQ%3D%3D?line=34'>35</a>\u001b[0m details \u001b[39m=\u001b[39m {\n\u001b[0;32m     <a href='vscode-notebook-cell:/d%3A/B.Sc%20CS/Semester%205/DAV/Article_Extraction/theHindu.ipynb#W3sZmlsZQ%3D%3D?line=35'>36</a>\u001b[0m     \u001b[39m'\u001b[39m\u001b[39mid\u001b[39m\u001b[39m'\u001b[39m: k,\n\u001b[0;32m     <a href='vscode-notebook-cell:/d%3A/B.Sc%20CS/Semester%205/DAV/Article_Extraction/theHindu.ipynb#W3sZmlsZQ%3D%3D?line=36'>37</a>\u001b[0m     \u001b[39m'\u001b[39m\u001b[39mpublisher\u001b[39m\u001b[39m'\u001b[39m: \u001b[39m\"\u001b[39m\u001b[39mThe Hindu\u001b[39m\u001b[39m\"\u001b[39m,\n\u001b[1;32m   (...)\u001b[0m\n\u001b[0;32m     <a href='vscode-notebook-cell:/d%3A/B.Sc%20CS/Semester%205/DAV/Article_Extraction/theHindu.ipynb#W3sZmlsZQ%3D%3D?line=40'>41</a>\u001b[0m     \u001b[39m'\u001b[39m\u001b[39mcontent\u001b[39m\u001b[39m'\u001b[39m: \u001b[39m\"\u001b[39m\u001b[39m\"\u001b[39m\n\u001b[0;32m     <a href='vscode-notebook-cell:/d%3A/B.Sc%20CS/Semester%205/DAV/Article_Extraction/theHindu.ipynb#W3sZmlsZQ%3D%3D?line=41'>42</a>\u001b[0m }\n\u001b[0;32m     <a href='vscode-notebook-cell:/d%3A/B.Sc%20CS/Semester%205/DAV/Article_Extraction/theHindu.ipynb#W3sZmlsZQ%3D%3D?line=42'>43</a>\u001b[0m \u001b[39m# print(details)\u001b[39;00m\n",
      "File \u001b[1;32m~\\AppData\\Local\\Packages\\PythonSoftwareFoundation.Python.3.10_qbz5n2kfra8p0\\LocalCache\\local-packages\\Python310\\site-packages\\selenium\\webdriver\\support\\wait.py:95\u001b[0m, in \u001b[0;36mWebDriverWait.until\u001b[1;34m(self, method, message)\u001b[0m\n\u001b[0;32m     93\u001b[0m     \u001b[39mif\u001b[39;00m time\u001b[39m.\u001b[39mmonotonic() \u001b[39m>\u001b[39m end_time:\n\u001b[0;32m     94\u001b[0m         \u001b[39mbreak\u001b[39;00m\n\u001b[1;32m---> 95\u001b[0m \u001b[39mraise\u001b[39;00m TimeoutException(message, screen, stacktrace)\n",
      "\u001b[1;31mTimeoutException\u001b[0m: Message: \nStacktrace:\n\tGetHandleVerifier [0x00007FF62FF282B2+55298]\n\t(No symbol) [0x00007FF62FE95E02]\n\t(No symbol) [0x00007FF62FD505AB]\n\t(No symbol) [0x00007FF62FD9175C]\n\t(No symbol) [0x00007FF62FD918DC]\n\t(No symbol) [0x00007FF62FDCCBC7]\n\t(No symbol) [0x00007FF62FDB20EF]\n\t(No symbol) [0x00007FF62FDCAAA4]\n\t(No symbol) [0x00007FF62FDB1E83]\n\t(No symbol) [0x00007FF62FD8670A]\n\t(No symbol) [0x00007FF62FD87964]\n\tGetHandleVerifier [0x00007FF6302A0AAB+3694587]\n\tGetHandleVerifier [0x00007FF6302F728E+4048862]\n\tGetHandleVerifier [0x00007FF6302EF173+4015811]\n\tGetHandleVerifier [0x00007FF62FFC47D6+695590]\n\t(No symbol) [0x00007FF62FEA0CE8]\n\t(No symbol) [0x00007FF62FE9CF34]\n\t(No symbol) [0x00007FF62FE9D062]\n\t(No symbol) [0x00007FF62FE8D3A3]\n\tBaseThreadInitThunk [0x00007FFC8AF3257D+29]\n\tRtlUserThreadStart [0x00007FFC8B6EAA58+40]\n"
     ]
    }
   ],
   "source": [
    "articles_dict = {}\n",
    "k = 0\n",
    "iter_flag = True\n",
    "pageNo = 0\n",
    "\n",
    "while(iter_flag):\n",
    "    nextPageUrl=f'https://www.thehindu.com/search/#gsc.tab=0&gsc.q=Indian%20Economy&gsc.sort=date&gsc.page={pageNo}'\n",
    "    print(nextPageUrl)\n",
    "    pageNo=pageNo+1\n",
    "    driver.get(url=nextPageUrl)\n",
    "    \n",
    "    for j in range(1, 11):\n",
    "        \n",
    "        try:\n",
    "            articles = wait.until(EC.visibility_of_element_located((By.XPATH, f'/html/body/section[2]/div/div[2]/div[2]/div/div/div/div/div[5]/div[2]/div/div/div[1]/div[{j}]/div/div[1]/div/a')))\n",
    "            print(articles.text)\n",
    "            # publish_details = driver.find_element(By.XPATH, )\n",
    "            details = {\n",
    "                'id': k,\n",
    "                'publisher': \"The Hindu\",\n",
    "                'title': articles.text,\n",
    "                'link': articles.get_attribute('href'),\n",
    "                'publish_details': '',\n",
    "                'content': \"\"\n",
    "            }\n",
    "            # print(details)\n",
    "            articles_dict[f'{k}'] = details\n",
    "            k=k+1\n",
    "                        \n",
    "        except Exception as e:\n",
    "            print('Exception encountered at : ', k)\n",
    "            driver.refresh()\n",
    "            \n",
    "            articles=wait.until(EC.presence_of_element_located((By.XPATH, f'/html/body/section[2]/div/div[2]/div[2]/div/div/div/div/div[5]/div[2]/div/div/div[1]/div[{j}]/div/div[1]/div/a')))\n",
    "            details = {\n",
    "                'id': k,\n",
    "                'publisher': \"The Hindu\",\n",
    "                'title': '',\n",
    "                'link': '',\n",
    "                'publish_details': '',\n",
    "                'content': \"\"\n",
    "            }\n",
    "            # print(details)\n",
    "            articles_dict[f'{k}'] = details\n",
    "            k=k+1\n",
    "            \n",
    " \n",
    "    if (k >= 501):\n",
    "        iter_flag = False\n",
    "    else:\n",
    "        print(pageNo)      \n",
    "\n",
    "print(articles_dict)\n"
   ]
  },
  {
   "cell_type": "code",
   "execution_count": null,
   "metadata": {},
   "outputs": [],
   "source": [
    "for keys in articles_dict.keys():\n",
    "    link=articles_dict[keys]['link']\n",
    "    print(link)\n",
    "    driver.get(link)\n",
    "    try:\n",
    "        content=driver.find_element(By.XPATH,'/html/body/section[2]/div/div/div[1]/div[3]/div[4]').text\n",
    "    except Exception as e:\n",
    "        try:\n",
    "            content=driver.find_element(By.XPATH,'/html/body/section[2]/div/div/div[1]/div[3]/div[3]').text\n",
    "        except Exception as f:\n",
    "            content=''\n",
    "    finally:\n",
    "        articles_dict[keys]['content']=content"
   ]
  },
  {
   "cell_type": "code",
   "execution_count": null,
   "metadata": {},
   "outputs": [],
   "source": [
    "print(articles_dict)"
   ]
  },
  {
   "cell_type": "code",
   "execution_count": 11,
   "metadata": {},
   "outputs": [
    {
     "name": "stdout",
     "output_type": "stream",
     "text": [
      "The data has been written to 'theHindu1.csv'.\n"
     ]
    }
   ],
   "source": [
    "# Flatten the nested structure\n",
    "flat_articles_list = []\n",
    "for article_id, article_data in articles_dict.items():\n",
    "    flat_article = {'id': article_data['id'], 'publisher': article_data['publisher'], 'title': article_data['title'], 'link': article_data['link'], 'publish_details': article_data['publish_details'], 'content': article_data['content']}\n",
    "    flat_articles_list.append(flat_article)\n",
    "\n",
    "# Specify the CSV file path\n",
    "csv_file_path = 'theHindu1.csv'\n",
    "\n",
    "# Write the flattened data to a CSV file\n",
    "with open(csv_file_path, 'w', newline='', encoding='utf-8') as csv_file:\n",
    "    fieldnames = ['id', 'publisher', 'title', 'link', 'publish_details', 'content']\n",
    "    writer = csv.DictWriter(csv_file, fieldnames=fieldnames)\n",
    "    \n",
    "    # Write the header\n",
    "    writer.writeheader()\n",
    "    \n",
    "    # Write the data\n",
    "    writer.writerows(flat_articles_list)\n",
    "\n",
    "print(f\"The data has been written to '{csv_file_path}'.\")"
   ]
  }
 ],
 "metadata": {
  "kernelspec": {
   "display_name": "Python 3",
   "language": "python",
   "name": "python3"
  },
  "language_info": {
   "codemirror_mode": {
    "name": "ipython",
    "version": 3
   },
   "file_extension": ".py",
   "mimetype": "text/x-python",
   "name": "python",
   "nbconvert_exporter": "python",
   "pygments_lexer": "ipython3",
   "version": "3.10.11"
  }
 },
 "nbformat": 4,
 "nbformat_minor": 2
}

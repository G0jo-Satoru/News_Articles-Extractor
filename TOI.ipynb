{
 "cells": [
  {
   "cell_type": "code",
   "execution_count": null,
   "metadata": {},
   "outputs": [],
   "source": [
    "from selenium import webdriver\n",
    "from selenium.webdriver.common.by import By\n",
    "from selenium.webdriver.support.wait import WebDriverWait\n",
    "from selenium.webdriver.support import expected_conditions as EC\n",
    "\n",
    "import csv"
   ]
  },
  {
   "cell_type": "code",
   "execution_count": null,
   "metadata": {},
   "outputs": [],
   "source": [
    "driver=webdriver.Chrome()"
   ]
  },
  {
   "cell_type": "code",
   "execution_count": null,
   "metadata": {},
   "outputs": [],
   "source": [
    "driver.get(url=\"https://timesofindia.indiatimes.com/topic/indian-economy/news\")\n",
    "i=0\n",
    "for i in range(15):\n",
    "    i=i+1\n",
    "   \n",
    "    more =driver.find_elements(By.XPATH,'//*[@id=\"storyBody\"]/div/div[2]/div/div/div/div[2]/button')\n",
    "    print(more)    \n",
    "    more[0].click()\n",
    "    "
   ]
  },
  {
   "cell_type": "code",
   "execution_count": null,
   "metadata": {},
   "outputs": [],
   "source": [
    "j=0\n",
    "articles_dict={}\n",
    "for j in range(101):\n",
    "    j=j+1\n",
    "    try:\n",
    "        articles=driver.find_element(By.XPATH, f'/html/body/div[2]/div/div[4]/div/div[4]/div/div[2]/div/div[2]/div/div/div/div[1]/div/div[{j}]/a/div/div[1]' )\n",
    "        print(articles.text)\n",
    "        publish_details=driver.find_element(By.XPATH,f'/html/body/div[2]/div/div[4]/div/div[4]/div/div[2]/div/div[2]/div/div/div/div[1]/div/div[{j}]/a/div/div[2]')\n",
    "        div_link = driver.find_element(By.XPATH,f'//*[@id=\"storyBody\"]/div/div[2]/div/div/div/div[1]/div/div[2]/a').get_attribute(\"href\")\n",
    "    except Exception as e:\n",
    "        pass\n",
    "    \n",
    "    details = {\n",
    "    'id': j,\n",
    "    'publisher': 'TOI',\n",
    "    'title': articles.text,\n",
    "    'link': div_link,\n",
    "    'publish_details':publish_details.text,\n",
    "    'content':\"\"\n",
    "    }\n",
    "    articles_dict[f'{j}']=details\n",
    "print(articles_dict)\n",
    "    "
   ]
  },
  {
   "cell_type": "code",
   "execution_count": null,
   "metadata": {},
   "outputs": [],
   "source": [
    "for keys in articles_dict.keys():\n",
    "    link=articles_dict[keys]['link']\n",
    "    driver.get(url=link)\n",
    "    try:\n",
    "        content=driver.find_element(By.XPATH,'/html/body/div[2]/div/div[3]/div[3]/div[1]/div[1]/div[1]/div[5]/div[2]/div/div[2]/div[2]').text\n",
    "    except Exception as e:\n",
    "        try:\n",
    "            content=driver.find_element(By.XPATH,'/html/body/div[2]/div/div[3]/div[3]/div[1]/div[1]/div[1]/div[5]/div[2]/div/div[1]/div[2]').text\n",
    "        except Exception as f:\n",
    "            try:\n",
    "               content=driver.find_element(By.XPATH,'/html/body/div[2]/div/div[3]/div[3]/div[2]/div[1]/div[1]/div[5]/div[2]/div/div[2]/div[2]').text\n",
    "            except Exception as g:\n",
    "                try:\n",
    "                    content=driver.find_element(By.XPATH,'/html/body/div[2]/div/div[3]/div[3]/div[2]/div[1]/div[1]/div[5]/div[2]/div/div[1]/div[2]').text \n",
    "                except Exception as h:\n",
    "                    content=''\n",
    "    finally:\n",
    "        articles_dict[keys]['content']=content"
   ]
  },
  {
   "cell_type": "code",
   "execution_count": null,
   "metadata": {},
   "outputs": [],
   "source": [
    "print(articles_dict)"
   ]
  },
  {
   "cell_type": "code",
   "execution_count": null,
   "metadata": {},
   "outputs": [],
   "source": [
    "# Flatten the nested structure\n",
    "flat_articles_list = []\n",
    "for article_id, article_data in articles_dict.items():\n",
    "    flat_article = {'id': article_data['id'], 'publisher': article_data['publisher'], 'title': article_data['title'], 'link': article_data['link'], 'publish_details': article_data['publish_details'], 'content': article_data['content']}\n",
    "    flat_articles_list.append(flat_article)\n",
    "\n",
    "# Specify the CSV file path\n",
    "csv_file_path = 'toi.csv'\n",
    "\n",
    "# Write the flattened data to a CSV file\n",
    "with open(csv_file_path, 'w', newline='', encoding='utf-8') as csv_file:\n",
    "    fieldnames = ['id', 'publisher', 'title', 'link', 'publish_details', 'content']\n",
    "    writer = csv.DictWriter(csv_file, fieldnames=fieldnames)\n",
    "    \n",
    "    # Write the header\n",
    "    writer.writeheader()\n",
    "    \n",
    "    # Write the data\n",
    "    writer.writerows(flat_articles_list)\n",
    "\n",
    "print(f\"The data has been written to '{csv_file_path}'.\")"
   ]
  }
 ],
 "metadata": {
  "kernelspec": {
   "display_name": "Python 3",
   "language": "python",
   "name": "python3"
  },
  "language_info": {
   "codemirror_mode": {
    "name": "ipython",
    "version": 3
   },
   "file_extension": ".py",
   "mimetype": "text/x-python",
   "name": "python",
   "nbconvert_exporter": "python",
   "pygments_lexer": "ipython3",
   "version": "3.10.11"
  }
 },
 "nbformat": 4,
 "nbformat_minor": 2
}
